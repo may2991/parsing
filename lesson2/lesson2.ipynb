{
 "cells": [
  {
   "cell_type": "code",
   "execution_count": 217,
   "id": "94103829",
   "metadata": {},
   "outputs": [],
   "source": [
    "import requests\n",
    "import json\n",
    "import lxml\n",
    "from bs4 import BeautifulSoup as bs\n",
    "import pandas as pd"
   ]
  },
  {
   "cell_type": "markdown",
   "id": "c0399eab",
   "metadata": {},
   "source": [
    "функции парсинга зарплаты и вакансии вцелом"
   ]
  },
  {
   "cell_type": "code",
   "execution_count": 218,
   "id": "3105e7ca",
   "metadata": {},
   "outputs": [],
   "source": [
    "def parse_zp(string, dict_zp):\n",
    "    if len(string) == 13:\n",
    "        dict_zp['min zp'] = string[2].replace('\\xa0','')\n",
    "        dict_zp['max zp'] = string[6].replace('\\xa0','')\n",
    "        dict_zp['curr'] = string[10]\n",
    "        dict_zp['prim'] = string[12]\n",
    "    elif str(string[0]) == 'от ':\n",
    "            dict_zp['min zp'] = string[2].replace('\\xa0','')\n",
    "            dict_zp['curr'] = string[6]\n",
    "            dict_zp['prim'] = string[8]\n",
    "    elif str(string[0]) == 'до ':\n",
    "            dict_zp['max zp'] = string[2].replace('\\xa0','')\n",
    "            dict_zp['curr'] = string[6]\n",
    "            dict_zp['prim'] = string[8]\n",
    "\n",
    "    return dict_zp\n",
    "    \n",
    "\n",
    "def parse_vac(url):\n",
    "    dict_vac = {'name': None, 'min zp': None, 'max zp': None, 'curr': None, 'prim': None, 'url': url}\n",
    "    headers = {'User-agent': 'Mozilla/5.0 (Windows NT 10.0; Win64; x64)'}\n",
    "    req = requests.get(url, headers=headers).text\n",
    "    soup = bs(req)\n",
    "    dict_vac = parse_zp(soup.find(attrs = {'data-qa': 'bloko-header-2'}).contents,  dict_vac)\n",
    "    dict_vac['name'] = soup.find(attrs = {'data-qa': 'vacancy-title'}).contents[0]\n",
    "    \n",
    "    return dict_vac\n",
    "    "
   ]
  },
  {
   "cell_type": "code",
   "execution_count": 225,
   "id": "0d57d2b4",
   "metadata": {},
   "outputs": [],
   "source": [
    "vac = 'Специалист Data Science' # вакансия\n",
    "n = 10 # количество вакансий"
   ]
  },
  {
   "cell_type": "markdown",
   "id": "3a5c12d3",
   "metadata": {},
   "source": [
    "Получение списка страниц заданной вакансии"
   ]
  },
  {
   "cell_type": "code",
   "execution_count": 226,
   "id": "cd300490",
   "metadata": {},
   "outputs": [],
   "source": [
    "req = requests.get(f'https://api.hh.ru/vacancies?text={vac}&only_with_salary=true&currency=RUR&User-Agent=HH-User-Agent')"
   ]
  },
  {
   "cell_type": "code",
   "execution_count": 227,
   "id": "db742d92",
   "metadata": {},
   "outputs": [],
   "source": [
    "data = json.loads(req.text) #переводим в список"
   ]
  },
  {
   "cell_type": "code",
   "execution_count": 228,
   "id": "ee76a0d1",
   "metadata": {},
   "outputs": [
    {
     "name": "stdout",
     "output_type": "stream",
     "text": [
      "None\n"
     ]
    }
   ],
   "source": [
    "a= soup.find(attrs = {'data-qa' == 'vacancy-title'})\n",
    "print(a)"
   ]
  },
  {
   "cell_type": "code",
   "execution_count": 229,
   "id": "c4456633",
   "metadata": {},
   "outputs": [],
   "source": [
    "list_of_vac=[]        #очищаем от прошлых результатов\n",
    "for i in range(n):    #формируем список из n ссылок\n",
    "     list_of_vac.append(parse_vac(data['items'][i]['alternate_url']))"
   ]
  },
  {
   "cell_type": "code",
   "execution_count": 230,
   "id": "4fbf9446",
   "metadata": {},
   "outputs": [
    {
     "data": {
      "text/html": [
       "<div>\n",
       "<style scoped>\n",
       "    .dataframe tbody tr th:only-of-type {\n",
       "        vertical-align: middle;\n",
       "    }\n",
       "\n",
       "    .dataframe tbody tr th {\n",
       "        vertical-align: top;\n",
       "    }\n",
       "\n",
       "    .dataframe thead th {\n",
       "        text-align: right;\n",
       "    }\n",
       "</style>\n",
       "<table border=\"1\" class=\"dataframe\">\n",
       "  <thead>\n",
       "    <tr style=\"text-align: right;\">\n",
       "      <th></th>\n",
       "      <th>name</th>\n",
       "      <th>min zp</th>\n",
       "      <th>max zp</th>\n",
       "      <th>curr</th>\n",
       "      <th>prim</th>\n",
       "      <th>url</th>\n",
       "    </tr>\n",
       "  </thead>\n",
       "  <tbody>\n",
       "    <tr>\n",
       "      <th>0</th>\n",
       "      <td>Специалист Data Science</td>\n",
       "      <td>100000</td>\n",
       "      <td>200000</td>\n",
       "      <td>руб.</td>\n",
       "      <td>на руки</td>\n",
       "      <td>https://hh.ru/vacancy/46857375</td>\n",
       "    </tr>\n",
       "    <tr>\n",
       "      <th>1</th>\n",
       "      <td>Data Scientist</td>\n",
       "      <td>100000</td>\n",
       "      <td>None</td>\n",
       "      <td>руб.</td>\n",
       "      <td>на руки</td>\n",
       "      <td>https://hh.ru/vacancy/48118086</td>\n",
       "    </tr>\n",
       "    <tr>\n",
       "      <th>2</th>\n",
       "      <td>Data Scientist</td>\n",
       "      <td>100000</td>\n",
       "      <td>250000</td>\n",
       "      <td>руб.</td>\n",
       "      <td>на руки</td>\n",
       "      <td>https://hh.ru/vacancy/44350010</td>\n",
       "    </tr>\n",
       "    <tr>\n",
       "      <th>3</th>\n",
       "      <td>Data Scientist</td>\n",
       "      <td>None</td>\n",
       "      <td>300000</td>\n",
       "      <td>руб.</td>\n",
       "      <td>на руки</td>\n",
       "      <td>https://hh.ru/vacancy/45191074</td>\n",
       "    </tr>\n",
       "    <tr>\n",
       "      <th>4</th>\n",
       "      <td>Специалист Computer Vision (Senior Data Scient...</td>\n",
       "      <td>180000</td>\n",
       "      <td>300000</td>\n",
       "      <td>руб.</td>\n",
       "      <td>на руки</td>\n",
       "      <td>https://hh.ru/vacancy/48577773</td>\n",
       "    </tr>\n",
       "    <tr>\n",
       "      <th>5</th>\n",
       "      <td>Data Scientist (Middle)</td>\n",
       "      <td>140000</td>\n",
       "      <td>160000</td>\n",
       "      <td>руб.</td>\n",
       "      <td>на руки</td>\n",
       "      <td>https://hh.ru/vacancy/47765295</td>\n",
       "    </tr>\n",
       "    <tr>\n",
       "      <th>6</th>\n",
       "      <td>Специалист Computer Vision (Senior Data Scient...</td>\n",
       "      <td>180000</td>\n",
       "      <td>300000</td>\n",
       "      <td>руб.</td>\n",
       "      <td>на руки</td>\n",
       "      <td>https://hh.ru/vacancy/48577771</td>\n",
       "    </tr>\n",
       "    <tr>\n",
       "      <th>7</th>\n",
       "      <td>Специалист Computer Vision (Senior Data Scient...</td>\n",
       "      <td>180000</td>\n",
       "      <td>300000</td>\n",
       "      <td>руб.</td>\n",
       "      <td>на руки</td>\n",
       "      <td>https://hh.ru/vacancy/48577770</td>\n",
       "    </tr>\n",
       "    <tr>\n",
       "      <th>8</th>\n",
       "      <td>Data science team lead</td>\n",
       "      <td>None</td>\n",
       "      <td>200000</td>\n",
       "      <td>руб.</td>\n",
       "      <td>на руки</td>\n",
       "      <td>https://hh.ru/vacancy/47405663</td>\n",
       "    </tr>\n",
       "    <tr>\n",
       "      <th>9</th>\n",
       "      <td>Специалист Computer Vision (Senior Data Scient...</td>\n",
       "      <td>180000</td>\n",
       "      <td>300000</td>\n",
       "      <td>руб.</td>\n",
       "      <td>на руки</td>\n",
       "      <td>https://hh.ru/vacancy/48577775</td>\n",
       "    </tr>\n",
       "  </tbody>\n",
       "</table>\n",
       "</div>"
      ],
      "text/plain": [
       "                                                name  min zp  max zp  curr  \\\n",
       "0                            Специалист Data Science  100000  200000  руб.   \n",
       "1                                     Data Scientist  100000    None  руб.   \n",
       "2                                     Data Scientist  100000  250000  руб.   \n",
       "3                                     Data Scientist    None  300000  руб.   \n",
       "4  Специалист Computer Vision (Senior Data Scient...  180000  300000  руб.   \n",
       "5                            Data Scientist (Middle)  140000  160000  руб.   \n",
       "6  Специалист Computer Vision (Senior Data Scient...  180000  300000  руб.   \n",
       "7  Специалист Computer Vision (Senior Data Scient...  180000  300000  руб.   \n",
       "8                             Data science team lead    None  200000  руб.   \n",
       "9  Специалист Computer Vision (Senior Data Scient...  180000  300000  руб.   \n",
       "\n",
       "       prim                             url  \n",
       "0   на руки  https://hh.ru/vacancy/46857375  \n",
       "1   на руки  https://hh.ru/vacancy/48118086  \n",
       "2   на руки  https://hh.ru/vacancy/44350010  \n",
       "3   на руки  https://hh.ru/vacancy/45191074  \n",
       "4   на руки  https://hh.ru/vacancy/48577773  \n",
       "5   на руки  https://hh.ru/vacancy/47765295  \n",
       "6   на руки  https://hh.ru/vacancy/48577771  \n",
       "7   на руки  https://hh.ru/vacancy/48577770  \n",
       "8   на руки  https://hh.ru/vacancy/47405663  \n",
       "9   на руки  https://hh.ru/vacancy/48577775  "
      ]
     },
     "execution_count": 230,
     "metadata": {},
     "output_type": "execute_result"
    }
   ],
   "source": [
    "df = pd.DataFrame(list_of_vac)\n",
    "cols = df.columns.tolist()\n",
    "#cols = cols[-1:] + cols[:-1]\n",
    "#df = df[cols]\n",
    "df"
   ]
  },
  {
   "cell_type": "code",
   "execution_count": null,
   "id": "d8808cf8",
   "metadata": {},
   "outputs": [],
   "source": []
  },
  {
   "cell_type": "code",
   "execution_count": null,
   "id": "c689c518",
   "metadata": {},
   "outputs": [],
   "source": []
  }
 ],
 "metadata": {
  "kernelspec": {
   "display_name": "Python 3",
   "language": "python",
   "name": "python3"
  },
  "language_info": {
   "codemirror_mode": {
    "name": "ipython",
    "version": 3
   },
   "file_extension": ".py",
   "mimetype": "text/x-python",
   "name": "python",
   "nbconvert_exporter": "python",
   "pygments_lexer": "ipython3",
   "version": "3.8.8"
  }
 },
 "nbformat": 4,
 "nbformat_minor": 5
}
