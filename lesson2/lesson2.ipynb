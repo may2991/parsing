{
 "cells": [
  {
   "cell_type": "code",
   "execution_count": 152,
   "id": "94103829",
   "metadata": {},
   "outputs": [],
   "source": [
    "import requests\n",
    "import json\n",
    "import lxml\n",
    "from bs4 import BeautifulSoup as bs\n",
    "import pandas as pd"
   ]
  },
  {
   "cell_type": "markdown",
   "id": "c0399eab",
   "metadata": {},
   "source": [
    "функции парсинга зарплаты и вакансии вцелом"
   ]
  },
  {
   "cell_type": "code",
   "execution_count": 158,
   "id": "3105e7ca",
   "metadata": {},
   "outputs": [],
   "source": [
    "def parse_zp(string, dict_zp):\n",
    "    dict_zp = {'min': None,'max': None,'curr': None, 'prim': None }\n",
    "    if len(string) == 13:\n",
    "        dict_zp['min'] = string[2].replace('\\xa0','')\n",
    "        dict_zp['max'] = string[6].replace('\\xa0','')\n",
    "        dict_zp['curr'] = string[10]\n",
    "        dict_zp['prim'] = string[12]\n",
    "    elif str(string[0]) == 'от ':\n",
    "            dict_zp['min'] = string[2].replace('\\xa0','')\n",
    "            dict_zp['curr'] = string[6]\n",
    "            dict_zp['prim'] = string[8]\n",
    "    elif str(string[0]) == 'до ':\n",
    "            dict_zp['min'] = string[2].replace('\\xa0','')\n",
    "            dict_zp['curr'] = string[6]\n",
    "            dict_zp['prim'] = string[8]\n",
    "\n",
    "    return dict_zp "
   ]
  },
  {
   "cell_type": "code",
   "execution_count": 159,
   "id": "0d57d2b4",
   "metadata": {},
   "outputs": [],
   "source": [
    "vac = 'Специалист Data Science' # вакансия\n",
    "n = 10 # количество вакансий"
   ]
  },
  {
   "cell_type": "markdown",
   "id": "3a5c12d3",
   "metadata": {},
   "source": [
    "Получение списка страниц заданной вакансии"
   ]
  },
  {
   "cell_type": "code",
   "execution_count": 160,
   "id": "cd300490",
   "metadata": {},
   "outputs": [],
   "source": [
    "req = requests.get(f'https://api.hh.ru/vacancies?text={vac}&only_with_salary=true&currency=RUR&User-Agent=HH-User-Agent')"
   ]
  },
  {
   "cell_type": "code",
   "execution_count": 161,
   "id": "db742d92",
   "metadata": {},
   "outputs": [],
   "source": [
    "data = json.loads(req.text) #переводим в список"
   ]
  },
  {
   "cell_type": "code",
   "execution_count": 162,
   "id": "c4456633",
   "metadata": {},
   "outputs": [],
   "source": [
    "list_of_vac=[]        #очищаем от прошлых результатов\n",
    "for i in range(n):    #формируем список из n ссылок\n",
    "     list_of_vac.append(parse_vac(data['items'][i]['alternate_url']))"
   ]
  },
  {
   "cell_type": "code",
   "execution_count": 163,
   "id": "4fbf9446",
   "metadata": {},
   "outputs": [
    {
     "data": {
      "text/html": [
       "<div>\n",
       "<style scoped>\n",
       "    .dataframe tbody tr th:only-of-type {\n",
       "        vertical-align: middle;\n",
       "    }\n",
       "\n",
       "    .dataframe tbody tr th {\n",
       "        vertical-align: top;\n",
       "    }\n",
       "\n",
       "    .dataframe thead th {\n",
       "        text-align: right;\n",
       "    }\n",
       "</style>\n",
       "<table border=\"1\" class=\"dataframe\">\n",
       "  <thead>\n",
       "    <tr style=\"text-align: right;\">\n",
       "      <th></th>\n",
       "      <th>name</th>\n",
       "      <th>min</th>\n",
       "      <th>max</th>\n",
       "      <th>curr</th>\n",
       "      <th>prim</th>\n",
       "    </tr>\n",
       "  </thead>\n",
       "  <tbody>\n",
       "    <tr>\n",
       "      <th>0</th>\n",
       "      <td>Специалист Data Science</td>\n",
       "      <td>100000</td>\n",
       "      <td>200000</td>\n",
       "      <td>руб.</td>\n",
       "      <td>на руки</td>\n",
       "    </tr>\n",
       "    <tr>\n",
       "      <th>1</th>\n",
       "      <td>Data Scientist</td>\n",
       "      <td>100000</td>\n",
       "      <td>None</td>\n",
       "      <td>руб.</td>\n",
       "      <td>на руки</td>\n",
       "    </tr>\n",
       "    <tr>\n",
       "      <th>2</th>\n",
       "      <td>Data Scientist</td>\n",
       "      <td>100000</td>\n",
       "      <td>250000</td>\n",
       "      <td>руб.</td>\n",
       "      <td>на руки</td>\n",
       "    </tr>\n",
       "    <tr>\n",
       "      <th>3</th>\n",
       "      <td>Data Scientist</td>\n",
       "      <td>300000</td>\n",
       "      <td>None</td>\n",
       "      <td>руб.</td>\n",
       "      <td>на руки</td>\n",
       "    </tr>\n",
       "    <tr>\n",
       "      <th>4</th>\n",
       "      <td>Специалист Computer Vision (Senior Data Scient...</td>\n",
       "      <td>180000</td>\n",
       "      <td>300000</td>\n",
       "      <td>руб.</td>\n",
       "      <td>на руки</td>\n",
       "    </tr>\n",
       "    <tr>\n",
       "      <th>5</th>\n",
       "      <td>Data Scientist (Middle)</td>\n",
       "      <td>140000</td>\n",
       "      <td>160000</td>\n",
       "      <td>руб.</td>\n",
       "      <td>на руки</td>\n",
       "    </tr>\n",
       "    <tr>\n",
       "      <th>6</th>\n",
       "      <td>Специалист Computer Vision (Senior Data Scient...</td>\n",
       "      <td>180000</td>\n",
       "      <td>300000</td>\n",
       "      <td>руб.</td>\n",
       "      <td>на руки</td>\n",
       "    </tr>\n",
       "    <tr>\n",
       "      <th>7</th>\n",
       "      <td>Специалист Computer Vision (Senior Data Scient...</td>\n",
       "      <td>180000</td>\n",
       "      <td>300000</td>\n",
       "      <td>руб.</td>\n",
       "      <td>на руки</td>\n",
       "    </tr>\n",
       "    <tr>\n",
       "      <th>8</th>\n",
       "      <td>Data science team lead</td>\n",
       "      <td>200000</td>\n",
       "      <td>None</td>\n",
       "      <td>руб.</td>\n",
       "      <td>на руки</td>\n",
       "    </tr>\n",
       "    <tr>\n",
       "      <th>9</th>\n",
       "      <td>Специалист Computer Vision (Senior Data Scient...</td>\n",
       "      <td>180000</td>\n",
       "      <td>300000</td>\n",
       "      <td>руб.</td>\n",
       "      <td>на руки</td>\n",
       "    </tr>\n",
       "  </tbody>\n",
       "</table>\n",
       "</div>"
      ],
      "text/plain": [
       "                                                name     min     max  curr  \\\n",
       "0                            Специалист Data Science  100000  200000  руб.   \n",
       "1                                     Data Scientist  100000    None  руб.   \n",
       "2                                     Data Scientist  100000  250000  руб.   \n",
       "3                                     Data Scientist  300000    None  руб.   \n",
       "4  Специалист Computer Vision (Senior Data Scient...  180000  300000  руб.   \n",
       "5                            Data Scientist (Middle)  140000  160000  руб.   \n",
       "6  Специалист Computer Vision (Senior Data Scient...  180000  300000  руб.   \n",
       "7  Специалист Computer Vision (Senior Data Scient...  180000  300000  руб.   \n",
       "8                             Data science team lead  200000    None  руб.   \n",
       "9  Специалист Computer Vision (Senior Data Scient...  180000  300000  руб.   \n",
       "\n",
       "       prim  \n",
       "0   на руки  \n",
       "1   на руки  \n",
       "2   на руки  \n",
       "3   на руки  \n",
       "4   на руки  \n",
       "5   на руки  \n",
       "6   на руки  \n",
       "7   на руки  \n",
       "8   на руки  \n",
       "9   на руки  "
      ]
     },
     "execution_count": 163,
     "metadata": {},
     "output_type": "execute_result"
    }
   ],
   "source": [
    "df = pd.DataFrame(list_of_vac)\n",
    "cols = df.columns.tolist()\n",
    "cols = cols[-1:] + cols[:-1]\n",
    "df = df[cols]\n",
    "df"
   ]
  }
 ],
 "metadata": {
  "kernelspec": {
   "display_name": "Python 3",
   "language": "python",
   "name": "python3"
  },
  "language_info": {
   "codemirror_mode": {
    "name": "ipython",
    "version": 3
   },
   "file_extension": ".py",
   "mimetype": "text/x-python",
   "name": "python",
   "nbconvert_exporter": "python",
   "pygments_lexer": "ipython3",
   "version": "3.8.8"
  }
 },
 "nbformat": 4,
 "nbformat_minor": 5
}
