{
 "cells": [
  {
   "cell_type": "markdown",
   "id": "3cd85a3e",
   "metadata": {},
   "source": [
    "1. Посмотреть документацию к API GitHub, разобраться как вывести список репозиториев для конкретного пользователя, сохранить JSON-вывод в файле *.json."
   ]
  },
  {
   "cell_type": "code",
   "execution_count": 36,
   "id": "3a8a1714",
   "metadata": {},
   "outputs": [],
   "source": [
    "import requests\n",
    "import json"
   ]
  },
  {
   "cell_type": "code",
   "execution_count": 37,
   "id": "03f132f5",
   "metadata": {},
   "outputs": [],
   "source": [
    "username = 'may2991'"
   ]
  },
  {
   "cell_type": "code",
   "execution_count": 38,
   "id": "dfc320a8",
   "metadata": {},
   "outputs": [
    {
     "name": "stdout",
     "output_type": "stream",
     "text": [
      "[{\"id\":322108261,\"node_id\":\"MDEwOlJlcG9zaXRvcnkzMjIxMDgyNjE=\",\"name\":\"geek_brains_python_1\",\"full_name\":\"may2991/geek_brains_python_1\",\"private\":false,\"owner\":{\"login\":\"may2991\",\"id\":76070924,\"node_id\":\"MDQ6VXNlcjc2MDcwOTI0\",\"avatar_url\":\"https://avatars.githubusercontent.com/u/76070924?v=4\",\"gravatar_id\":\"\",\"url\":\"https://api.github.com/users/may2991\",\"html_url\":\"https://github.com/may2991\",\"followers_url\":\"https://api.github.com/users/may2991/followers\",\"following_url\":\"https://api.github.com/users/may2991/following{/other_user}\",\"gists_url\":\"https://api.github.com/users/may2991/gists{/gist_id}\",\"starred_url\":\"https://api.github.com/users/may2991/starred{/owner}{/repo}\",\"subscriptions_url\":\"https://api.github.com/users/may2991/subscriptions\",\"organizations_url\":\"https://api.github.com/users/may2991/orgs\",\"repos_url\":\"https://api.github.com/users/may2991/repos\",\"events_url\":\"https://api.github.com/users/may2991/events{/privacy}\",\"received_events_url\":\"https://api.github.com/users/may2991/received_events\",\"type\":\"User\",\"site_admin\":false},\"html_url\":\"https://github.com/may2991/geek_brains_python_1\",\"description\":null,\"fork\":false,\"url\":\"https://api.github.com/repos/may2991/geek_brains_python_1\",\"forks_url\":\"https://api.github.com/repos/may2991/geek_brains_python_1/forks\",\"keys_url\":\"https://api.github.com/repos/may2991/geek_brains_python_1/keys{/key_id}\",\"collaborators_url\":\"https://api.github.com/repos/may2991/geek_brains_python_1/collaborators{/collaborator}\",\"teams_url\":\"https://api.github.com/repos/may2991/geek_brains_python_1/teams\",\"hooks_url\":\"https://api.github.com/repos/may2991/geek_brains_python_1/hooks\",\"issue_events_url\":\"https://api.github.com/repos/may2991/geek_brains_python_1/issues/events{/number}\",\"events_url\":\"https://api.github.com/repos/may2991/geek_brains_python_1/events\",\"assignees_url\":\"https://api.github.com/repos/may2991/geek_brains_python_1/assignees{/user}\",\"branches_url\":\"https://api.github.com/repos/may2991/geek_brains_python_1/branches{/branch}\",\"tags_url\":\"https://api.github.com/repos/may2991/geek_brains_python_1/tags\",\"blobs_url\":\"https://api.github.com/repos/may2991/geek_brains_python_1/git/blobs{/sha}\",\"git_tags_url\":\"https://api.github.com/repos/may2991/geek_brains_python_1/git/tags{/sha}\",\"git_refs_url\":\"https://api.github.com/repos/may2991/geek_brains_python_1/git/refs{/sha}\",\"trees_url\":\"https://api.github.com/repos/may2991/geek_brains_python_1/git/trees{/sha}\",\"statuses_url\":\"https://api.github.com/repos/may2991/geek_brains_python_1/statuses/{sha}\",\"languages_url\":\"https://api.github.com/repos/may2991/geek_brains_python_1/languages\",\"stargazers_url\":\"https://api.github.com/repos/may2991/geek_brains_python_1/stargazers\",\"contributors_url\":\"https://api.github.com/repos/may2991/geek_brains_python_1/contributors\",\"subscribers_url\":\"https://api.github.com/repos/may2991/geek_brains_python_1/subscribers\",\"subscription_url\":\"https://api.github.com/repos/may2991/geek_brains_python_1/subscription\",\"commits_url\":\"https://api.github.com/repos/may2991/geek_brains_python_1/commits{/sha}\",\"git_commits_url\":\"https://api.github.com/repos/may2991/geek_brains_python_1/git/commits{/sha}\",\"comments_url\":\"https://api.github.com/repos/may2991/geek_brains_python_1/comments{/number}\",\"issue_comment_url\":\"https://api.github.com/repos/may2991/geek_brains_python_1/issues/comments{/number}\",\"contents_url\":\"https://api.github.com/repos/may2991/geek_brains_python_1/contents/{+path}\",\"compare_url\":\"https://api.github.com/repos/may2991/geek_brains_python_1/compare/{base}...{head}\",\"merges_url\":\"https://api.github.com/repos/may2991/geek_brains_python_1/merges\",\"archive_url\":\"https://api.github.com/repos/may2991/geek_brains_python_1/{archive_format}{/ref}\",\"downloads_url\":\"https://api.github.com/repos/may2991/geek_brains_python_1/downloads\",\"issues_url\":\"https://api.github.com/repos/may2991/geek_brains_python_1/issues{/number}\",\"pulls_url\":\"https://api.github.com/repos/may2991/geek_brains_python_1/pulls{/number}\",\"milestones_url\":\"https://api.github.com/repos/may2991/geek_brains_python_1/milestones{/number}\",\"notifications_url\":\"https://api.github.com/repos/may2991/geek_brains_python_1/notifications{?since,all,participating}\",\"labels_url\":\"https://api.github.com/repos/may2991/geek_brains_python_1/labels{/name}\",\"releases_url\":\"https://api.github.com/repos/may2991/geek_brains_python_1/releases{/id}\",\"deployments_url\":\"https://api.github.com/repos/may2991/geek_brains_python_1/deployments\",\"created_at\":\"2020-12-16T21:38:21Z\",\"updated_at\":\"2020-12-16T21:49:03Z\",\"pushed_at\":\"2020-12-16T22:04:21Z\",\"git_url\":\"git://github.com/may2991/geek_brains_python_1.git\",\"ssh_url\":\"git@github.com:may2991/geek_brains_python_1.git\",\"clone_url\":\"https://github.com/may2991/geek_brains_python_1.git\",\"svn_url\":\"https://github.com/may2991/geek_brains_python_1\",\"homepage\":null,\"size\":3,\"stargazers_count\":0,\"watchers_count\":0,\"language\":\"Python\",\"has_issues\":true,\"has_projects\":true,\"has_downloads\":true,\"has_wiki\":true,\"has_pages\":false,\"forks_count\":0,\"mirror_url\":null,\"archived\":false,\"disabled\":false,\"open_issues_count\":1,\"license\":null,\"allow_forking\":true,\"visibility\":\"public\",\"forks\":0,\"open_issues\":1,\"watchers\":0,\"default_branch\":\"main\"},{\"id\":322113317,\"node_id\":\"MDEwOlJlcG9zaXRvcnkzMjIxMTMzMTc=\",\"name\":\"HW_python1\",\"full_name\":\"may2991/HW_python1\",\"private\":false,\"owner\":{\"login\":\"may2991\",\"id\":76070924,\"node_id\":\"MDQ6VXNlcjc2MDcwOTI0\",\"avatar_url\":\"https://avatars.githubusercontent.com/u/76070924?v=4\",\"gravatar_id\":\"\",\"url\":\"https://api.github.com/users/may2991\",\"html_url\":\"https://github.com/may2991\",\"followers_url\":\"https://api.github.com/users/may2991/followers\",\"following_url\":\"https://api.github.com/users/may2991/following{/other_user}\",\"gists_url\":\"https://api.github.com/users/may2991/gists{/gist_id}\",\"starred_url\":\"https://api.github.com/users/may2991/starred{/owner}{/repo}\",\"subscriptions_url\":\"https://api.github.com/users/may2991/subscriptions\",\"organizations_url\":\"https://api.github.com/users/may2991/orgs\",\"repos_url\":\"https://api.github.com/users/may2991/repos\",\"events_url\":\"https://api.github.com/users/may2991/events{/privacy}\",\"received_events_url\":\"https://api.github.com/users/may2991/received_events\",\"type\":\"User\",\"site_admin\":false},\"html_url\":\"https://github.com/may2991/HW_python1\",\"description\":null,\"fork\":false,\"url\":\"https://api.github.com/repos/may2991/HW_python1\",\"forks_url\":\"https://api.github.com/repos/may2991/HW_python1/forks\",\"keys_url\":\"https://api.github.com/repos/may2991/HW_python1/keys{/key_id}\",\"collaborators_url\":\"https://api.github.com/repos/may2991/HW_python1/collaborators{/collaborator}\",\"teams_url\":\"https://api.github.com/repos/may2991/HW_python1/teams\",\"hooks_url\":\"https://api.github.com/repos/may2991/HW_python1/hooks\",\"issue_events_url\":\"https://api.github.com/repos/may2991/HW_python1/issues/events{/number}\",\"events_url\":\"https://api.github.com/repos/may2991/HW_python1/events\",\"assignees_url\":\"https://api.github.com/repos/may2991/HW_python1/assignees{/user}\",\"branches_url\":\"https://api.github.com/repos/may2991/HW_python1/branches{/branch}\",\"tags_url\":\"https://api.github.com/repos/may2991/HW_python1/tags\",\"blobs_url\":\"https://api.github.com/repos/may2991/HW_python1/git/blobs{/sha}\",\"git_tags_url\":\"https://api.github.com/repos/may2991/HW_python1/git/tags{/sha}\",\"git_refs_url\":\"https://api.github.com/repos/may2991/HW_python1/git/refs{/sha}\",\"trees_url\":\"https://api.github.com/repos/may2991/HW_python1/git/trees{/sha}\",\"statuses_url\":\"https://api.github.com/repos/may2991/HW_python1/statuses/{sha}\",\"languages_url\":\"https://api.github.com/repos/may2991/HW_python1/languages\",\"stargazers_url\":\"https://api.github.com/repos/may2991/HW_python1/stargazers\",\"contributors_url\":\"https://api.github.com/repos/may2991/HW_python1/contributors\",\"subscribers_url\":\"https://api.github.com/repos/may2991/HW_python1/subscribers\",\"subscription_url\":\"https://api.github.com/repos/may2991/HW_python1/subscription\",\"commits_url\":\"https://api.github.com/repos/may2991/HW_python1/commits{/sha}\",\"git_commits_url\":\"https://api.github.com/repos/may2991/HW_python1/git/commits{/sha}\",\"comments_url\":\"https://api.github.com/repos/may2991/HW_python1/comments{/number}\",\"issue_comment_url\":\"https://api.github.com/repos/may2991/HW_python1/issues/comments{/number}\",\"contents_url\":\"https://api.github.com/repos/may2991/HW_python1/contents/{+path}\",\"compare_url\":\"https://api.github.com/repos/may2991/HW_python1/compare/{base}...{head}\",\"merges_url\":\"https://api.github.com/repos/may2991/HW_python1/merges\",\"archive_url\":\"https://api.github.com/repos/may2991/HW_python1/{archive_format}{/ref}\",\"downloads_url\":\"https://api.github.com/repos/may2991/HW_python1/downloads\",\"issues_url\":\"https://api.github.com/repos/may2991/HW_python1/issues{/number}\",\"pulls_url\":\"https://api.github.com/repos/may2991/HW_python1/pulls{/number}\",\"milestones_url\":\"https://api.github.com/repos/may2991/HW_python1/milestones{/number}\",\"notifications_url\":\"https://api.github.com/repos/may2991/HW_python1/notifications{?since,all,participating}\",\"labels_url\":\"https://api.github.com/repos/may2991/HW_python1/labels{/name}\",\"releases_url\":\"https://api.github.com/repos/may2991/HW_python1/releases{/id}\",\"deployments_url\":\"https://api.github.com/repos/may2991/HW_python1/deployments\",\"created_at\":\"2020-12-16T22:05:58Z\",\"updated_at\":\"2021-01-13T19:44:14Z\",\"pushed_at\":\"2021-01-25T02:40:07Z\",\"git_url\":\"git://github.com/may2991/HW_python1.git\",\"ssh_url\":\"git@github.com:may2991/HW_python1.git\",\"clone_url\":\"https://github.com/may2991/HW_python1.git\",\"svn_url\":\"https://github.com/may2991/HW_python1\",\"homepage\":null,\"size\":68,\"stargazers_count\":0,\"watchers_count\":0,\"language\":\"Python\",\"has_issues\":true,\"has_projects\":true,\"has_downloads\":true,\"has_wiki\":true,\"has_pages\":false,\"forks_count\":0,\"mirror_url\":null,\"archived\":false,\"disabled\":false,\"open_issues_count\":3,\"license\":null,\"allow_forking\":true,\"visibility\":\"public\",\"forks\":0,\"open_issues\":3,\"watchers\":0,\"default_branch\":\"main\"},{\"id\":352712102,\"node_id\":\"MDEwOlJlcG9zaXRvcnkzNTI3MTIxMDI=\",\"name\":\"MySQL\",\"full_name\":\"may2991/MySQL\",\"private\":false,\"owner\":{\"login\":\"may2991\",\"id\":76070924,\"node_id\":\"MDQ6VXNlcjc2MDcwOTI0\",\"avatar_url\":\"https://avatars.githubusercontent.com/u/76070924?v=4\",\"gravatar_id\":\"\",\"url\":\"https://api.github.com/users/may2991\",\"html_url\":\"https://github.com/may2991\",\"followers_url\":\"https://api.github.com/users/may2991/followers\",\"following_url\":\"https://api.github.com/users/may2991/following{/other_user}\",\"gists_url\":\"https://api.github.com/users/may2991/gists{/gist_id}\",\"starred_url\":\"https://api.github.com/users/may2991/starred{/owner}{/repo}\",\"subscriptions_url\":\"https://api.github.com/users/may2991/subscriptions\",\"organizations_url\":\"https://api.github.com/users/may2991/orgs\",\"repos_url\":\"https://api.github.com/users/may2991/repos\",\"events_url\":\"https://api.github.com/users/may2991/events{/privacy}\",\"received_events_url\":\"https://api.github.com/users/may2991/received_events\",\"type\":\"User\",\"site_admin\":false},\"html_url\":\"https://github.com/may2991/MySQL\",\"description\":\"HomeWork geekbrains\",\"fork\":false,\"url\":\"https://api.github.com/repos/may2991/MySQL\",\"forks_url\":\"https://api.github.com/repos/may2991/MySQL/forks\",\"keys_url\":\"https://api.github.com/repos/may2991/MySQL/keys{/key_id}\",\"collaborators_url\":\"https://api.github.com/repos/may2991/MySQL/collaborators{/collaborator}\",\"teams_url\":\"https://api.github.com/repos/may2991/MySQL/teams\",\"hooks_url\":\"https://api.github.com/repos/may2991/MySQL/hooks\",\"issue_events_url\":\"https://api.github.com/repos/may2991/MySQL/issues/events{/number}\",\"events_url\":\"https://api.github.com/repos/may2991/MySQL/events\",\"assignees_url\":\"https://api.github.com/repos/may2991/MySQL/assignees{/user}\",\"branches_url\":\"https://api.github.com/repos/may2991/MySQL/branches{/branch}\",\"tags_url\":\"https://api.github.com/repos/may2991/MySQL/tags\",\"blobs_url\":\"https://api.github.com/repos/may2991/MySQL/git/blobs{/sha}\",\"git_tags_url\":\"https://api.github.com/repos/may2991/MySQL/git/tags{/sha}\",\"git_refs_url\":\"https://api.github.com/repos/may2991/MySQL/git/refs{/sha}\",\"trees_url\":\"https://api.github.com/repos/may2991/MySQL/git/trees{/sha}\",\"statuses_url\":\"https://api.github.com/repos/may2991/MySQL/statuses/{sha}\",\"languages_url\":\"https://api.github.com/repos/may2991/MySQL/languages\",\"stargazers_url\":\"https://api.github.com/repos/may2991/MySQL/stargazers\",\"contributors_url\":\"https://api.github.com/repos/may2991/MySQL/contributors\",\"subscribers_url\":\"https://api.github.com/repos/may2991/MySQL/subscribers\",\"subscription_url\":\"https://api.github.com/repos/may2991/MySQL/subscription\",\"commits_url\":\"https://api.github.com/repos/may2991/MySQL/commits{/sha}\",\"git_commits_url\":\"https://api.github.com/repos/may2991/MySQL/git/commits{/sha}\",\"comments_url\":\"https://api.github.com/repos/may2991/MySQL/comments{/number}\",\"issue_comment_url\":\"https://api.github.com/repos/may2991/MySQL/issues/comments{/number}\",\"contents_url\":\"https://api.github.com/repos/may2991/MySQL/contents/{+path}\",\"compare_url\":\"https://api.github.com/repos/may2991/MySQL/compare/{base}...{head}\",\"merges_url\":\"https://api.github.com/repos/may2991/MySQL/merges\",\"archive_url\":\"https://api.github.com/repos/may2991/MySQL/{archive_format}{/ref}\",\"downloads_url\":\"https://api.github.com/repos/may2991/MySQL/downloads\",\"issues_url\":\"https://api.github.com/repos/may2991/MySQL/issues{/number}\",\"pulls_url\":\"https://api.github.com/repos/may2991/MySQL/pulls{/number}\",\"milestones_url\":\"https://api.github.com/repos/may2991/MySQL/milestones{/number}\",\"notifications_url\":\"https://api.github.com/repos/may2991/MySQL/notifications{?since,all,participating}\",\"labels_url\":\"https://api.github.com/repos/may2991/MySQL/labels{/name}\",\"releases_url\":\"https://api.github.com/repos/may2991/MySQL/releases{/id}\",\"deployments_url\":\"https://api.github.com/repos/may2991/MySQL/deployments\",\"created_at\":\"2021-03-29T16:33:23Z\",\"updated_at\":\"2021-03-29T16:55:48Z\",\"pushed_at\":\"2021-04-19T18:47:17Z\",\"git_url\":\"git://github.com/may2991/MySQL.git\",\"ssh_url\":\"git@github.com:may2991/MySQL.git\",\"clone_url\":\"https://github.com/may2991/MySQL.git\",\"svn_url\":\"https://github.com/may2991/MySQL\",\"homepage\":null,\"size\":20,\"stargazers_count\":0,\"watchers_count\":0,\"language\":null,\"has_issues\":true,\"has_projects\":true,\"has_downloads\":true,\"has_wiki\":true,\"has_pages\":false,\"forks_count\":0,\"mirror_url\":null,\"archived\":false,\"disabled\":false,\"open_issues_count\":4,\"license\":null,\"allow_forking\":true,\"visibility\":\"public\",\"forks\":0,\"open_issues\":4,\"watchers\":0,\"default_branch\":\"main\"},{\"id\":394124107,\"node_id\":\"MDEwOlJlcG9zaXRvcnkzOTQxMjQxMDc=\",\"name\":\"Python-for-Data-Science\",\"full_name\":\"may2991/Python-for-Data-Science\",\"private\":false,\"owner\":{\"login\":\"may2991\",\"id\":76070924,\"node_id\":\"MDQ6VXNlcjc2MDcwOTI0\",\"avatar_url\":\"https://avatars.githubusercontent.com/u/76070924?v=4\",\"gravatar_id\":\"\",\"url\":\"https://api.github.com/users/may2991\",\"html_url\":\"https://github.com/may2991\",\"followers_url\":\"https://api.github.com/users/may2991/followers\",\"following_url\":\"https://api.github.com/users/may2991/following{/other_user}\",\"gists_url\":\"https://api.github.com/users/may2991/gists{/gist_id}\",\"starred_url\":\"https://api.github.com/users/may2991/starred{/owner}{/repo}\",\"subscriptions_url\":\"https://api.github.com/users/may2991/subscriptions\",\"organizations_url\":\"https://api.github.com/users/may2991/orgs\",\"repos_url\":\"https://api.github.com/users/may2991/repos\",\"events_url\":\"https://api.github.com/users/may2991/events{/privacy}\",\"received_events_url\":\"https://api.github.com/users/may2991/received_events\",\"type\":\"User\",\"site_admin\":false},\"html_url\":\"https://github.com/may2991/Python-for-Data-Science\",\"description\":null,\"fork\":false,\"url\":\"https://api.github.com/repos/may2991/Python-for-Data-Science\",\"forks_url\":\"https://api.github.com/repos/may2991/Python-for-Data-Science/forks\",\"keys_url\":\"https://api.github.com/repos/may2991/Python-for-Data-Science/keys{/key_id}\",\"collaborators_url\":\"https://api.github.com/repos/may2991/Python-for-Data-Science/collaborators{/collaborator}\",\"teams_url\":\"https://api.github.com/repos/may2991/Python-for-Data-Science/teams\",\"hooks_url\":\"https://api.github.com/repos/may2991/Python-for-Data-Science/hooks\",\"issue_events_url\":\"https://api.github.com/repos/may2991/Python-for-Data-Science/issues/events{/number}\",\"events_url\":\"https://api.github.com/repos/may2991/Python-for-Data-Science/events\",\"assignees_url\":\"https://api.github.com/repos/may2991/Python-for-Data-Science/assignees{/user}\",\"branches_url\":\"https://api.github.com/repos/may2991/Python-for-Data-Science/branches{/branch}\",\"tags_url\":\"https://api.github.com/repos/may2991/Python-for-Data-Science/tags\",\"blobs_url\":\"https://api.github.com/repos/may2991/Python-for-Data-Science/git/blobs{/sha}\",\"git_tags_url\":\"https://api.github.com/repos/may2991/Python-for-Data-Science/git/tags{/sha}\",\"git_refs_url\":\"https://api.github.com/repos/may2991/Python-for-Data-Science/git/refs{/sha}\",\"trees_url\":\"https://api.github.com/repos/may2991/Python-for-Data-Science/git/trees{/sha}\",\"statuses_url\":\"https://api.github.com/repos/may2991/Python-for-Data-Science/statuses/{sha}\",\"languages_url\":\"https://api.github.com/repos/may2991/Python-for-Data-Science/languages\",\"stargazers_url\":\"https://api.github.com/repos/may2991/Python-for-Data-Science/stargazers\",\"contributors_url\":\"https://api.github.com/repos/may2991/Python-for-Data-Science/contributors\",\"subscribers_url\":\"https://api.github.com/repos/may2991/Python-for-Data-Science/subscribers\",\"subscription_url\":\"https://api.github.com/repos/may2991/Python-for-Data-Science/subscription\",\"commits_url\":\"https://api.github.com/repos/may2991/Python-for-Data-Science/commits{/sha}\",\"git_commits_url\":\"https://api.github.com/repos/may2991/Python-for-Data-Science/git/commits{/sha}\",\"comments_url\":\"https://api.github.com/repos/may2991/Python-for-Data-Science/comments{/number}\",\"issue_comment_url\":\"https://api.github.com/repos/may2991/Python-for-Data-Science/issues/comments{/number}\",\"contents_url\":\"https://api.github.com/repos/may2991/Python-for-Data-Science/contents/{+path}\",\"compare_url\":\"https://api.github.com/repos/may2991/Python-for-Data-Science/compare/{base}...{head}\",\"merges_url\":\"https://api.github.com/repos/may2991/Python-for-Data-Science/merges\",\"archive_url\":\"https://api.github.com/repos/may2991/Python-for-Data-Science/{archive_format}{/ref}\",\"downloads_url\":\"https://api.github.com/repos/may2991/Python-for-Data-Science/downloads\",\"issues_url\":\"https://api.github.com/repos/may2991/Python-for-Data-Science/issues{/number}\",\"pulls_url\":\"https://api.github.com/repos/may2991/Python-for-Data-Science/pulls{/number}\",\"milestones_url\":\"https://api.github.com/repos/may2991/Python-for-Data-Science/milestones{/number}\",\"notifications_url\":\"https://api.github.com/repos/may2991/Python-for-Data-Science/notifications{?since,all,participating}\",\"labels_url\":\"https://api.github.com/repos/may2991/Python-for-Data-Science/labels{/name}\",\"releases_url\":\"https://api.github.com/repos/may2991/Python-for-Data-Science/releases{/id}\",\"deployments_url\":\"https://api.github.com/repos/may2991/Python-for-Data-Science/deployments\",\"created_at\":\"2021-08-09T02:37:23Z\",\"updated_at\":\"2021-08-09T02:39:47Z\",\"pushed_at\":\"2021-08-09T02:45:42Z\",\"git_url\":\"git://github.com/may2991/Python-for-Data-Science.git\",\"ssh_url\":\"git@github.com:may2991/Python-for-Data-Science.git\",\"clone_url\":\"https://github.com/may2991/Python-for-Data-Science.git\",\"svn_url\":\"https://github.com/may2991/Python-for-Data-Science\",\"homepage\":null,\"size\":46,\"stargazers_count\":0,\"watchers_count\":0,\"language\":\"Jupyter Notebook\",\"has_issues\":true,\"has_projects\":true,\"has_downloads\":true,\"has_wiki\":true,\"has_pages\":false,\"forks_count\":0,\"mirror_url\":null,\"archived\":false,\"disabled\":false,\"open_issues_count\":2,\"license\":null,\"allow_forking\":true,\"visibility\":\"public\",\"forks\":0,\"open_issues\":2,\"watchers\":0,\"default_branch\":\"main\"},{\"id\":321779209,\"node_id\":\"MDEwOlJlcG9zaXRvcnkzMjE3NzkyMDk=\",\"name\":\"repo-github\",\"full_name\":\"may2991/repo-github\",\"private\":false,\"owner\":{\"login\":\"may2991\",\"id\":76070924,\"node_id\":\"MDQ6VXNlcjc2MDcwOTI0\",\"avatar_url\":\"https://avatars.githubusercontent.com/u/76070924?v=4\",\"gravatar_id\":\"\",\"url\":\"https://api.github.com/users/may2991\",\"html_url\":\"https://github.com/may2991\",\"followers_url\":\"https://api.github.com/users/may2991/followers\",\"following_url\":\"https://api.github.com/users/may2991/following{/other_user}\",\"gists_url\":\"https://api.github.com/users/may2991/gists{/gist_id}\",\"starred_url\":\"https://api.github.com/users/may2991/starred{/owner}{/repo}\",\"subscriptions_url\":\"https://api.github.com/users/may2991/subscriptions\",\"organizations_url\":\"https://api.github.com/users/may2991/orgs\",\"repos_url\":\"https://api.github.com/users/may2991/repos\",\"events_url\":\"https://api.github.com/users/may2991/events{/privacy}\",\"received_events_url\":\"https://api.github.com/users/may2991/received_events\",\"type\":\"User\",\"site_admin\":false},\"html_url\":\"https://github.com/may2991/repo-github\",\"description\":null,\"fork\":false,\"url\":\"https://api.github.com/repos/may2991/repo-github\",\"forks_url\":\"https://api.github.com/repos/may2991/repo-github/forks\",\"keys_url\":\"https://api.github.com/repos/may2991/repo-github/keys{/key_id}\",\"collaborators_url\":\"https://api.github.com/repos/may2991/repo-github/collaborators{/collaborator}\",\"teams_url\":\"https://api.github.com/repos/may2991/repo-github/teams\",\"hooks_url\":\"https://api.github.com/repos/may2991/repo-github/hooks\",\"issue_events_url\":\"https://api.github.com/repos/may2991/repo-github/issues/events{/number}\",\"events_url\":\"https://api.github.com/repos/may2991/repo-github/events\",\"assignees_url\":\"https://api.github.com/repos/may2991/repo-github/assignees{/user}\",\"branches_url\":\"https://api.github.com/repos/may2991/repo-github/branches{/branch}\",\"tags_url\":\"https://api.github.com/repos/may2991/repo-github/tags\",\"blobs_url\":\"https://api.github.com/repos/may2991/repo-github/git/blobs{/sha}\",\"git_tags_url\":\"https://api.github.com/repos/may2991/repo-github/git/tags{/sha}\",\"git_refs_url\":\"https://api.github.com/repos/may2991/repo-github/git/refs{/sha}\",\"trees_url\":\"https://api.github.com/repos/may2991/repo-github/git/trees{/sha}\",\"statuses_url\":\"https://api.github.com/repos/may2991/repo-github/statuses/{sha}\",\"languages_url\":\"https://api.github.com/repos/may2991/repo-github/languages\",\"stargazers_url\":\"https://api.github.com/repos/may2991/repo-github/stargazers\",\"contributors_url\":\"https://api.github.com/repos/may2991/repo-github/contributors\",\"subscribers_url\":\"https://api.github.com/repos/may2991/repo-github/subscribers\",\"subscription_url\":\"https://api.github.com/repos/may2991/repo-github/subscription\",\"commits_url\":\"https://api.github.com/repos/may2991/repo-github/commits{/sha}\",\"git_commits_url\":\"https://api.github.com/repos/may2991/repo-github/git/commits{/sha}\",\"comments_url\":\"https://api.github.com/repos/may2991/repo-github/comments{/number}\",\"issue_comment_url\":\"https://api.github.com/repos/may2991/repo-github/issues/comments{/number}\",\"contents_url\":\"https://api.github.com/repos/may2991/repo-github/contents/{+path}\",\"compare_url\":\"https://api.github.com/repos/may2991/repo-github/compare/{base}...{head}\",\"merges_url\":\"https://api.github.com/repos/may2991/repo-github/merges\",\"archive_url\":\"https://api.github.com/repos/may2991/repo-github/{archive_format}{/ref}\",\"downloads_url\":\"https://api.github.com/repos/may2991/repo-github/downloads\",\"issues_url\":\"https://api.github.com/repos/may2991/repo-github/issues{/number}\",\"pulls_url\":\"https://api.github.com/repos/may2991/repo-github/pulls{/number}\",\"milestones_url\":\"https://api.github.com/repos/may2991/repo-github/milestones{/number}\",\"notifications_url\":\"https://api.github.com/repos/may2991/repo-github/notifications{?since,all,participating}\",\"labels_url\":\"https://api.github.com/repos/may2991/repo-github/labels{/name}\",\"releases_url\":\"https://api.github.com/repos/may2991/repo-github/releases{/id}\",\"deployments_url\":\"https://api.github.com/repos/may2991/repo-github/deployments\",\"created_at\":\"2020-12-15T20:17:34Z\",\"updated_at\":\"2020-12-16T19:04:37Z\",\"pushed_at\":\"2020-12-16T19:04:35Z\",\"git_url\":\"git://github.com/may2991/repo-github.git\",\"ssh_url\":\"git@github.com:may2991/repo-github.git\",\"clone_url\":\"https://github.com/may2991/repo-github.git\",\"svn_url\":\"https://github.com/may2991/repo-github\",\"homepage\":null,\"size\":0,\"stargazers_count\":0,\"watchers_count\":0,\"language\":null,\"has_issues\":true,\"has_projects\":true,\"has_downloads\":true,\"has_wiki\":true,\"has_pages\":false,\"forks_count\":0,\"mirror_url\":null,\"archived\":false,\"disabled\":false,\"open_issues_count\":0,\"license\":null,\"allow_forking\":true,\"visibility\":\"public\",\"forks\":0,\"open_issues\":0,\"watchers\":0,\"default_branch\":\"main\"},{\"id\":359227220,\"node_id\":\"MDEwOlJlcG9zaXRvcnkzNTkyMjcyMjA=\",\"name\":\"test\",\"full_name\":\"may2991/test\",\"private\":false,\"owner\":{\"login\":\"may2991\",\"id\":76070924,\"node_id\":\"MDQ6VXNlcjc2MDcwOTI0\",\"avatar_url\":\"https://avatars.githubusercontent.com/u/76070924?v=4\",\"gravatar_id\":\"\",\"url\":\"https://api.github.com/users/may2991\",\"html_url\":\"https://github.com/may2991\",\"followers_url\":\"https://api.github.com/users/may2991/followers\",\"following_url\":\"https://api.github.com/users/may2991/following{/other_user}\",\"gists_url\":\"https://api.github.com/users/may2991/gists{/gist_id}\",\"starred_url\":\"https://api.github.com/users/may2991/starred{/owner}{/repo}\",\"subscriptions_url\":\"https://api.github.com/users/may2991/subscriptions\",\"organizations_url\":\"https://api.github.com/users/may2991/orgs\",\"repos_url\":\"https://api.github.com/users/may2991/repos\",\"events_url\":\"https://api.github.com/users/may2991/events{/privacy}\",\"received_events_url\":\"https://api.github.com/users/may2991/received_events\",\"type\":\"User\",\"site_admin\":false},\"html_url\":\"https://github.com/may2991/test\",\"description\":\"test\",\"fork\":false,\"url\":\"https://api.github.com/repos/may2991/test\",\"forks_url\":\"https://api.github.com/repos/may2991/test/forks\",\"keys_url\":\"https://api.github.com/repos/may2991/test/keys{/key_id}\",\"collaborators_url\":\"https://api.github.com/repos/may2991/test/collaborators{/collaborator}\",\"teams_url\":\"https://api.github.com/repos/may2991/test/teams\",\"hooks_url\":\"https://api.github.com/repos/may2991/test/hooks\",\"issue_events_url\":\"https://api.github.com/repos/may2991/test/issues/events{/number}\",\"events_url\":\"https://api.github.com/repos/may2991/test/events\",\"assignees_url\":\"https://api.github.com/repos/may2991/test/assignees{/user}\",\"branches_url\":\"https://api.github.com/repos/may2991/test/branches{/branch}\",\"tags_url\":\"https://api.github.com/repos/may2991/test/tags\",\"blobs_url\":\"https://api.github.com/repos/may2991/test/git/blobs{/sha}\",\"git_tags_url\":\"https://api.github.com/repos/may2991/test/git/tags{/sha}\",\"git_refs_url\":\"https://api.github.com/repos/may2991/test/git/refs{/sha}\",\"trees_url\":\"https://api.github.com/repos/may2991/test/git/trees{/sha}\",\"statuses_url\":\"https://api.github.com/repos/may2991/test/statuses/{sha}\",\"languages_url\":\"https://api.github.com/repos/may2991/test/languages\",\"stargazers_url\":\"https://api.github.com/repos/may2991/test/stargazers\",\"contributors_url\":\"https://api.github.com/repos/may2991/test/contributors\",\"subscribers_url\":\"https://api.github.com/repos/may2991/test/subscribers\",\"subscription_url\":\"https://api.github.com/repos/may2991/test/subscription\",\"commits_url\":\"https://api.github.com/repos/may2991/test/commits{/sha}\",\"git_commits_url\":\"https://api.github.com/repos/may2991/test/git/commits{/sha}\",\"comments_url\":\"https://api.github.com/repos/may2991/test/comments{/number}\",\"issue_comment_url\":\"https://api.github.com/repos/may2991/test/issues/comments{/number}\",\"contents_url\":\"https://api.github.com/repos/may2991/test/contents/{+path}\",\"compare_url\":\"https://api.github.com/repos/may2991/test/compare/{base}...{head}\",\"merges_url\":\"https://api.github.com/repos/may2991/test/merges\",\"archive_url\":\"https://api.github.com/repos/may2991/test/{archive_format}{/ref}\",\"downloads_url\":\"https://api.github.com/repos/may2991/test/downloads\",\"issues_url\":\"https://api.github.com/repos/may2991/test/issues{/number}\",\"pulls_url\":\"https://api.github.com/repos/may2991/test/pulls{/number}\",\"milestones_url\":\"https://api.github.com/repos/may2991/test/milestones{/number}\",\"notifications_url\":\"https://api.github.com/repos/may2991/test/notifications{?since,all,participating}\",\"labels_url\":\"https://api.github.com/repos/may2991/test/labels{/name}\",\"releases_url\":\"https://api.github.com/repos/may2991/test/releases{/id}\",\"deployments_url\":\"https://api.github.com/repos/may2991/test/deployments\",\"created_at\":\"2021-04-18T18:49:44Z\",\"updated_at\":\"2021-04-18T18:51:15Z\",\"pushed_at\":\"2021-04-18T18:57:33Z\",\"git_url\":\"git://github.com/may2991/test.git\",\"ssh_url\":\"git@github.com:may2991/test.git\",\"clone_url\":\"https://github.com/may2991/test.git\",\"svn_url\":\"https://github.com/may2991/test\",\"homepage\":null,\"size\":3,\"stargazers_count\":0,\"watchers_count\":0,\"language\":null,\"has_issues\":true,\"has_projects\":true,\"has_downloads\":true,\"has_wiki\":true,\"has_pages\":false,\"forks_count\":0,\"mirror_url\":null,\"archived\":false,\"disabled\":false,\"open_issues_count\":2,\"license\":null,\"allow_forking\":true,\"visibility\":\"public\",\"forks\":0,\"open_issues\":2,\"watchers\":0,\"default_branch\":\"main\"}]\n"
     ]
    }
   ],
   "source": [
    "req = requests.get(f'https://api.github.com/users/{username}/repos')\n",
    "print(req.text)"
   ]
  },
  {
   "cell_type": "code",
   "execution_count": 39,
   "id": "6a6467b1",
   "metadata": {},
   "outputs": [],
   "source": [
    "\n",
    "data = json.loads(req.text)\n"
   ]
  },
  {
   "cell_type": "code",
   "execution_count": 40,
   "id": "980f9aa1",
   "metadata": {},
   "outputs": [],
   "source": [
    "list_of_rep = []"
   ]
  },
  {
   "cell_type": "code",
   "execution_count": 41,
   "id": "d0fd9e5b",
   "metadata": {},
   "outputs": [],
   "source": [
    "for el in data:\n",
    "    list_of_rep.append({'name':el.get('name'),'url':el.get('url')})\n",
    "    "
   ]
  },
  {
   "cell_type": "code",
   "execution_count": 42,
   "id": "547e635d",
   "metadata": {},
   "outputs": [
    {
     "name": "stdout",
     "output_type": "stream",
     "text": [
      "geek_brains_python_1\n",
      "\n",
      "HW_python1\n",
      "\n",
      "MySQL\n",
      "\n",
      "Python-for-Data-Science\n",
      "\n",
      "repo-github\n",
      "\n",
      "test\n",
      "\n"
     ]
    }
   ],
   "source": [
    "for el in list_of_rep:\n",
    "    print(el['name']+'\\n')"
   ]
  },
  {
   "cell_type": "code",
   "execution_count": 43,
   "id": "0fa91f6b",
   "metadata": {},
   "outputs": [],
   "source": [
    "with open('ex1.json', 'w') as outfile:\n",
    "    json.dump(list_of_rep, outfile) "
   ]
  },
  {
   "cell_type": "markdown",
   "id": "729f9e26",
   "metadata": {},
   "source": [
    "2. Изучить список открытых API. Найти среди них любое, требующее авторизацию (любого типа). Выполнить запросы к нему, пройдя авторизацию. Ответ сервера записать в файл."
   ]
  },
  {
   "cell_type": "code",
   "execution_count": 56,
   "id": "5b145cc6",
   "metadata": {},
   "outputs": [],
   "source": [
    "api_key = 'aa2b9a9b9eab178e3a95c00b3c72cd42'\n",
    "req = requests.get(f'http://www.last.fm/api/auth/?api_key={api_key}', stream=True)"
   ]
  },
  {
   "cell_type": "code",
   "execution_count": 58,
   "id": "9e57fadd",
   "metadata": {},
   "outputs": [],
   "source": [
    "with open('ex2.html', 'wb') as fd:\n",
    "    for chunk in req.iter_content(chunk_size=128):\n",
    "        fd.write(chunk)"
   ]
  }
 ],
 "metadata": {
  "kernelspec": {
   "display_name": "Python 3",
   "language": "python",
   "name": "python3"
  },
  "language_info": {
   "codemirror_mode": {
    "name": "ipython",
    "version": 3
   },
   "file_extension": ".py",
   "mimetype": "text/x-python",
   "name": "python",
   "nbconvert_exporter": "python",
   "pygments_lexer": "ipython3",
   "version": "3.8.8"
  }
 },
 "nbformat": 4,
 "nbformat_minor": 5
}
