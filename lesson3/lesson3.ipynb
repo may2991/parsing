{
 "cells": [
  {
   "cell_type": "markdown",
   "id": "1a9403db",
   "metadata": {},
   "source": [
    "## Урок 2. Парсинг HTML. BeautifulSoup, MongoDB"
   ]
  },
  {
   "cell_type": "markdown",
   "id": "f5c08152",
   "metadata": {},
   "source": [
    "### Необходимо собрать информацию о вакансиях на вводимую должность (используем input или через аргументы) с сайта HH. Приложение должно анализировать несколько страниц сайта (также вводим через input или аргументы). \n",
    "\n",
    "Получившийся список должен содержать в себе минимум: Наименование вакансии. Предлагаемую зарплату (отдельно минимальную и максимальную). Ссылку на саму вакансию.\n",
    "\n",
    "Общий результат можно вывести с помощью dataFrame через pandas."
   ]
  },
  {
   "cell_type": "code",
   "execution_count": 1,
   "id": "94103829",
   "metadata": {},
   "outputs": [],
   "source": [
    "import requests\n",
    "import json\n",
    "import lxml\n",
    "from bs4 import BeautifulSoup as bs\n",
    "import pandas as pd\n",
    "from pymongo import MongoClient"
   ]
  },
  {
   "cell_type": "markdown",
   "id": "c0399eab",
   "metadata": {},
   "source": [
    "функции парсинга зарплаты и вакансии вцелом"
   ]
  },
  {
   "cell_type": "code",
   "execution_count": 2,
   "id": "3105e7ca",
   "metadata": {},
   "outputs": [],
   "source": [
    "def parse_zp(string, dict_zp):\n",
    "    if len(string) == 13:\n",
    "        dict_zp['min zp'] = int(string[2].replace('\\xa0',''))\n",
    "        dict_zp['max zp'] = int(string[6].replace('\\xa0',''))\n",
    "        dict_zp['curr'] = string[10]\n",
    "        dict_zp['prim'] = string[12]\n",
    "    elif str(string[0]) == 'от ':\n",
    "            dict_zp['min zp'] = int(string[2].replace('\\xa0',''))\n",
    "            dict_zp['curr'] = string[6]\n",
    "            dict_zp['prim'] = string[8]\n",
    "    elif str(string[0]) == 'до ':\n",
    "            dict_zp['max zp'] = int(string[2].replace('\\xa0',''))\n",
    "            dict_zp['curr'] = string[6]\n",
    "            dict_zp['prim'] = string[8]\n",
    "\n",
    "    return dict_zp\n",
    "    \n",
    "\n",
    "def parse_vac(url):\n",
    "    dict_vac = {'name': None, 'min zp': None, 'max zp': None, 'curr': None, 'prim': None, 'url': url}\n",
    "    headers = {'User-agent': 'Mozilla/5.0 (Windows NT 10.0; Win64; x64)'}\n",
    "    req = requests.get(url, headers=headers).text\n",
    "    soup = bs(req)\n",
    "    dict_vac = parse_zp(soup.find(attrs = {'data-qa': 'bloko-header-2'}).contents,  dict_vac)\n",
    "    dict_vac['name'] = soup.find(attrs = {'data-qa': 'vacancy-title'}).contents[0]\n",
    "    \n",
    "    return dict_vac\n",
    "    "
   ]
  },
  {
   "cell_type": "code",
   "execution_count": 3,
   "id": "0d57d2b4",
   "metadata": {},
   "outputs": [],
   "source": [
    "vac = 'Специалист Data Science' # вакансия\n",
    "n = 5 # количество вакансий"
   ]
  },
  {
   "cell_type": "markdown",
   "id": "3a5c12d3",
   "metadata": {},
   "source": [
    "Получение списка страниц заданной вакансии"
   ]
  },
  {
   "cell_type": "code",
   "execution_count": 4,
   "id": "cd300490",
   "metadata": {},
   "outputs": [],
   "source": [
    "req = requests.get(f'https://api.hh.ru/vacancies?text={vac}&only_with_salary=true&currency=RUR&User-Agent=HH-User-Agent')"
   ]
  },
  {
   "cell_type": "code",
   "execution_count": 5,
   "id": "db742d92",
   "metadata": {},
   "outputs": [],
   "source": [
    "data = json.loads(req.text) #переводим в список"
   ]
  },
  {
   "cell_type": "code",
   "execution_count": 6,
   "id": "c4456633",
   "metadata": {},
   "outputs": [
    {
     "data": {
      "text/html": [
       "<div>\n",
       "<style scoped>\n",
       "    .dataframe tbody tr th:only-of-type {\n",
       "        vertical-align: middle;\n",
       "    }\n",
       "\n",
       "    .dataframe tbody tr th {\n",
       "        vertical-align: top;\n",
       "    }\n",
       "\n",
       "    .dataframe thead th {\n",
       "        text-align: right;\n",
       "    }\n",
       "</style>\n",
       "<table border=\"1\" class=\"dataframe\">\n",
       "  <thead>\n",
       "    <tr style=\"text-align: right;\">\n",
       "      <th></th>\n",
       "      <th>name</th>\n",
       "      <th>min zp</th>\n",
       "      <th>max zp</th>\n",
       "      <th>curr</th>\n",
       "      <th>prim</th>\n",
       "      <th>url</th>\n",
       "    </tr>\n",
       "  </thead>\n",
       "  <tbody>\n",
       "    <tr>\n",
       "      <th>0</th>\n",
       "      <td>Специалист Data Science</td>\n",
       "      <td>100000.0</td>\n",
       "      <td>200000.0</td>\n",
       "      <td>руб.</td>\n",
       "      <td>на руки</td>\n",
       "      <td>https://hh.ru/vacancy/46857375</td>\n",
       "    </tr>\n",
       "    <tr>\n",
       "      <th>1</th>\n",
       "      <td>Data Scientist</td>\n",
       "      <td>NaN</td>\n",
       "      <td>300000.0</td>\n",
       "      <td>руб.</td>\n",
       "      <td>на руки</td>\n",
       "      <td>https://hh.ru/vacancy/45191074</td>\n",
       "    </tr>\n",
       "    <tr>\n",
       "      <th>2</th>\n",
       "      <td>Data Scientist</td>\n",
       "      <td>100000.0</td>\n",
       "      <td>250000.0</td>\n",
       "      <td>руб.</td>\n",
       "      <td>на руки</td>\n",
       "      <td>https://hh.ru/vacancy/44350010</td>\n",
       "    </tr>\n",
       "    <tr>\n",
       "      <th>3</th>\n",
       "      <td>Data Scientist</td>\n",
       "      <td>100000.0</td>\n",
       "      <td>NaN</td>\n",
       "      <td>руб.</td>\n",
       "      <td>на руки</td>\n",
       "      <td>https://hh.ru/vacancy/48118086</td>\n",
       "    </tr>\n",
       "    <tr>\n",
       "      <th>4</th>\n",
       "      <td>Data Scientist (Middle)</td>\n",
       "      <td>140000.0</td>\n",
       "      <td>160000.0</td>\n",
       "      <td>руб.</td>\n",
       "      <td>на руки</td>\n",
       "      <td>https://hh.ru/vacancy/47765295</td>\n",
       "    </tr>\n",
       "  </tbody>\n",
       "</table>\n",
       "</div>"
      ],
      "text/plain": [
       "                      name    min zp    max zp  curr      prim  \\\n",
       "0  Специалист Data Science  100000.0  200000.0  руб.   на руки   \n",
       "1           Data Scientist       NaN  300000.0  руб.   на руки   \n",
       "2           Data Scientist  100000.0  250000.0  руб.   на руки   \n",
       "3           Data Scientist  100000.0       NaN  руб.   на руки   \n",
       "4  Data Scientist (Middle)  140000.0  160000.0  руб.   на руки   \n",
       "\n",
       "                              url  \n",
       "0  https://hh.ru/vacancy/46857375  \n",
       "1  https://hh.ru/vacancy/45191074  \n",
       "2  https://hh.ru/vacancy/44350010  \n",
       "3  https://hh.ru/vacancy/48118086  \n",
       "4  https://hh.ru/vacancy/47765295  "
      ]
     },
     "execution_count": 6,
     "metadata": {},
     "output_type": "execute_result"
    }
   ],
   "source": [
    "list_of_vac=[]        #очищаем от прошлых результатов\n",
    "for i in range(n):    #формируем список из n ссылок\n",
    "     list_of_vac.append(parse_vac(data['items'][i]['alternate_url']))\n",
    "#print(list_of_vac)\n",
    "df = pd.DataFrame(list_of_vac)\n",
    "df"
   ]
  },
  {
   "cell_type": "markdown",
   "id": "558cf252",
   "metadata": {},
   "source": [
    "## Урок 3. Системы управления базами данных MongoDB и SQLite в Python"
   ]
  },
  {
   "cell_type": "markdown",
   "id": "a3d761e1",
   "metadata": {},
   "source": [
    "### 1. Развернуть у себя на компьютере/виртуальной машине/хостинге MongoDB и реализовать функцию, записывающую собранные вакансии в созданную БД."
   ]
  },
  {
   "cell_type": "code",
   "execution_count": null,
   "id": "d8808cf8",
   "metadata": {},
   "outputs": [],
   "source": [
    "client = MongoClient('localhost', 27017)\n",
    "db = client['vacancies']\n",
    "collection = db.DataScientists"
   ]
  },
  {
   "cell_type": "markdown",
   "id": "6ccda98c",
   "metadata": {},
   "source": [
    "### 3. Написать функцию, которая будет добавлять в вашу базу данных только новые вакансии с сайта."
   ]
  },
  {
   "cell_type": "code",
   "execution_count": null,
   "id": "c689c518",
   "metadata": {},
   "outputs": [],
   "source": [
    "for el in list_of_vac:\n",
    "    if len(list(db.DataScientists.find({ 'url': el['url'] }))) == 0:\n",
    "        db.DataScientists.insert_one(el) "
   ]
  },
  {
   "cell_type": "markdown",
   "id": "2acd8692",
   "metadata": {},
   "source": [
    "### 2. Написать функцию, которая производит поиск и выводит на экран вакансии с заработной платой больше введённой суммы."
   ]
  },
  {
   "cell_type": "code",
   "execution_count": null,
   "id": "2910c517",
   "metadata": {},
   "outputs": [],
   "source": [
    "user_zp = 200000 #Пороговое значение зарплаты\n",
    "answ_zp=db.DataScientists.find( { '$or': [ { 'min zp': { '$gt': user_zp } }, { 'max zp': { '$gt': user_zp } } ] } )\n",
    "df1 = pd.DataFrame(list(answ_zp))\n",
    "df1"
   ]
  },
  {
   "cell_type": "code",
   "execution_count": null,
   "id": "00420176",
   "metadata": {},
   "outputs": [],
   "source": []
  },
  {
   "cell_type": "code",
   "execution_count": null,
   "id": "c6b385de",
   "metadata": {},
   "outputs": [],
   "source": [
    "#db.DataScientists.drop()"
   ]
  }
 ],
 "metadata": {
  "kernelspec": {
   "display_name": "Python 3",
   "language": "python",
   "name": "python3"
  },
  "language_info": {
   "codemirror_mode": {
    "name": "ipython",
    "version": 3
   },
   "file_extension": ".py",
   "mimetype": "text/x-python",
   "name": "python",
   "nbconvert_exporter": "python",
   "pygments_lexer": "ipython3",
   "version": "3.8.8"
  }
 },
 "nbformat": 4,
 "nbformat_minor": 5
}
